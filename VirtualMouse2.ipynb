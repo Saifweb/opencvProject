{
 "cells": [
  {
   "cell_type": "code",
   "execution_count": 2,
   "metadata": {},
   "outputs": [],
   "source": [
    "import HandTrackingModule as htm\n",
    "import cv2\n",
    "import time\n",
    "import autopy\n"
   ]
  },
  {
   "cell_type": "code",
   "execution_count": 3,
   "metadata": {},
   "outputs": [],
   "source": [
    "cap=cv2.VideoCapture(1)\n",
    "detector=htm.handDetector(detectionCon=0.8)"
   ]
  },
  {
   "cell_type": "code",
   "execution_count": 4,
   "metadata": {},
   "outputs": [
    {
     "ename": "error",
     "evalue": "OpenCV(4.6.0) D:\\a\\opencv-python\\opencv-python\\opencv\\modules\\imgproc\\src\\color.cpp:182: error: (-215:Assertion failed) !_src.empty() in function 'cv::cvtColor'\n",
     "output_type": "error",
     "traceback": [
      "\u001b[1;31m---------------------------------------------------------------------------\u001b[0m",
      "\u001b[1;31merror\u001b[0m                                     Traceback (most recent call last)",
      "\u001b[1;32mc:\\Users\\saif\\Desktop\\opencv-project\\HandTrackingProject\\VirtualMouse2.ipynb Cell 3\u001b[0m in \u001b[0;36m<cell line: 2>\u001b[1;34m()\u001b[0m\n\u001b[0;32m      <a href='vscode-notebook-cell:/c%3A/Users/saif/Desktop/opencv-project/HandTrackingProject/VirtualMouse2.ipynb#ch0000002?line=1'>2</a>\u001b[0m succes,img\u001b[39m=\u001b[39mcap\u001b[39m.\u001b[39mread()\n\u001b[0;32m      <a href='vscode-notebook-cell:/c%3A/Users/saif/Desktop/opencv-project/HandTrackingProject/VirtualMouse2.ipynb#ch0000002?line=2'>3</a>\u001b[0m img\u001b[39m=\u001b[39mcv2\u001b[39m.\u001b[39mflip(img,\u001b[39m1\u001b[39m)\n\u001b[1;32m----> <a href='vscode-notebook-cell:/c%3A/Users/saif/Desktop/opencv-project/HandTrackingProject/VirtualMouse2.ipynb#ch0000002?line=3'>4</a>\u001b[0m img\u001b[39m=\u001b[39mdetector\u001b[39m.\u001b[39;49mfindHands(img)\n\u001b[0;32m      <a href='vscode-notebook-cell:/c%3A/Users/saif/Desktop/opencv-project/HandTrackingProject/VirtualMouse2.ipynb#ch0000002?line=4'>5</a>\u001b[0m LmList,bbox\u001b[39m=\u001b[39mdetector\u001b[39m.\u001b[39mfindPosition(img)\n\u001b[0;32m      <a href='vscode-notebook-cell:/c%3A/Users/saif/Desktop/opencv-project/HandTrackingProject/VirtualMouse2.ipynb#ch0000002?line=6'>7</a>\u001b[0m cv2\u001b[39m.\u001b[39mimshow(\u001b[39m\"\u001b[39m\u001b[39mImage\u001b[39m\u001b[39m\"\u001b[39m,img)\n",
      "File \u001b[1;32mc:\\Users\\saif\\Desktop\\opencv-project\\HandTrackingProject\\HandTrackingModule.py:20\u001b[0m, in \u001b[0;36mhandDetector.findHands\u001b[1;34m(self, img, draw)\u001b[0m\n\u001b[0;32m     18\u001b[0m \u001b[39mdef\u001b[39;00m \u001b[39mfindHands\u001b[39m(\u001b[39mself\u001b[39m,img,draw\u001b[39m=\u001b[39m\u001b[39mTrue\u001b[39;00m):\n\u001b[0;32m     19\u001b[0m     \u001b[39m#change image to a RGB image before we send it to the hand obejct !\u001b[39;00m\n\u001b[1;32m---> 20\u001b[0m     imgRGB\u001b[39m=\u001b[39mcv2\u001b[39m.\u001b[39;49mcvtColor(img,cv2\u001b[39m.\u001b[39;49mCOLOR_BGR2RGB)\n\u001b[0;32m     21\u001b[0m     \u001b[39m#send our image to the hands module !\u001b[39;00m\n\u001b[0;32m     22\u001b[0m     \u001b[39mself\u001b[39m\u001b[39m.\u001b[39mresults\u001b[39m=\u001b[39m\u001b[39mself\u001b[39m\u001b[39m.\u001b[39mhands\u001b[39m.\u001b[39mprocess(imgRGB)\n",
      "\u001b[1;31merror\u001b[0m: OpenCV(4.6.0) D:\\a\\opencv-python\\opencv-python\\opencv\\modules\\imgproc\\src\\color.cpp:182: error: (-215:Assertion failed) !_src.empty() in function 'cv::cvtColor'\n"
     ]
    }
   ],
   "source": [
    "while True:\n",
    "    succes,img=cap.read()\n",
    "    img=cv2.flip(img,1)\n",
    "    img=detector.findHands(img)\n",
    "    LmList,bbox=detector.findPosition(img)\n",
    "\n",
    "    cv2.imshow(\"Image\",img)\n",
    "    cv2.waitKey(1)"
   ]
  }
 ],
 "metadata": {
  "kernelspec": {
   "display_name": "Python 3.8.12 ('base')",
   "language": "python",
   "name": "python3"
  },
  "language_info": {
   "codemirror_mode": {
    "name": "ipython",
    "version": 3
   },
   "file_extension": ".py",
   "mimetype": "text/x-python",
   "name": "python",
   "nbconvert_exporter": "python",
   "pygments_lexer": "ipython3",
   "version": "3.8.12"
  },
  "orig_nbformat": 4,
  "vscode": {
   "interpreter": {
    "hash": "d99f35fa09d189e272de13bdc6edf290e6b83c25851925daddfd955383877b2c"
   }
  }
 },
 "nbformat": 4,
 "nbformat_minor": 2
}
