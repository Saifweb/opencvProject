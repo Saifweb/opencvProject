{
 "cells": [
  {
   "cell_type": "code",
   "execution_count": 1,
   "id": "64ba9a72",
   "metadata": {},
   "outputs": [],
   "source": [
    "import cv2\n",
    "import time\n",
    "import HandTrackingModule as htm\n",
    "import os \n"
   ]
  },
  {
   "cell_type": "code",
   "execution_count": 2,
   "id": "ffc71f3e",
   "metadata": {},
   "outputs": [
    {
     "name": "stdout",
     "output_type": "stream",
     "text": [
      "['1.jpg', '2.jpg', '3.jpg', '4.jpg', '5.jpg', '6.jpg']\n"
     ]
    }
   ],
   "source": [
    "#import our images!\n",
    "folderPath=\"fingers\"\n",
    "myList=os.listdir(folderPath)\n",
    "print(myList)"
   ]
  },
  {
   "cell_type": "code",
   "execution_count": 3,
   "id": "940d3a62",
   "metadata": {},
   "outputs": [
    {
     "name": "stdout",
     "output_type": "stream",
     "text": [
      "6\n"
     ]
    }
   ],
   "source": [
    "#save image in a list ! \n",
    "overLayList=[]\n",
    "for imPath in myList:\n",
    "    #read each image and save it in the list !\n",
    "    image=cv2.imread(f'{folderPath}/{imPath}')\n",
    "    overLayList.append(image)\n",
    "print(len(overLayList))\n",
    "#header is our img in the screen we will make a default value with image 1 !\n",
    "headerfinger=overLayList[0]\n"
   ]
  },
  {
   "cell_type": "code",
   "execution_count": 4,
   "id": "26e9b472",
   "metadata": {},
   "outputs": [],
   "source": [
    "#run our com \n",
    "cap=cv2.VideoCapture(0)\n",
    "cap.set(3,1280)\n",
    "cap.set(4,720)\n",
    "detector=htm.handDetector(detectionCon=0.75) "
   ]
  },
  {
   "cell_type": "code",
   "execution_count": null,
   "id": "a4f29402",
   "metadata": {},
   "outputs": [],
   "source": [
    "pTime=0\n",
    "cTime=0\n",
    "while True:\n",
    "    succes,img=cap.read()\n",
    "    img=detector.findHands(img)\n",
    "    lmList,box=detector.findPosition(img,draw=False)\n",
    "    if (len(lmList)!=0):\n",
    "        fingers=detector.fingersUp()\n",
    "        print(fingers)\n",
    "        somme=fingers.count(1)\n",
    "        headerfinger=overLayList[somme-1]\n",
    "        cv2.putText(img,str(somme),(800,100),cv2.FONT_HERSHEY_PLAIN,10,(255,0,255))\n",
    "    cTime=time.time()\n",
    "    fps=1/(cTime-pTime) \n",
    "    pTime=cTime\n",
    "    #show\n",
    "    cv2.putText(img,str(int(fps)),(1200,70),cv2.FONT_HERSHEY_PLAIN,3,(255,0,255),cv2.FONT_HERSHEY_PLAIN)\n",
    "    img[0:500,0:250] =headerfinger\n",
    "    cv2.imshow(\"Image\",img) \n",
    "    cv2.waitKey(1)\n"
   ]
  }
 ],
 "metadata": {
  "kernelspec": {
   "display_name": "Python 3 (ipykernel)",
   "language": "python",
   "name": "python3"
  },
  "language_info": {
   "codemirror_mode": {
    "name": "ipython",
    "version": 3
   },
   "file_extension": ".py",
   "mimetype": "text/x-python",
   "name": "python",
   "nbconvert_exporter": "python",
   "pygments_lexer": "ipython3",
   "version": "3.8.12"
  },
  "vscode": {
   "interpreter": {
    "hash": "d99f35fa09d189e272de13bdc6edf290e6b83c25851925daddfd955383877b2c"
   }
  }
 },
 "nbformat": 4,
 "nbformat_minor": 5
}
