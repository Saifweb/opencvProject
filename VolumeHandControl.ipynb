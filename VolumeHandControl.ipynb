{
 "cells": [
  {
   "cell_type": "code",
   "execution_count": 1,
   "id": "7de15227",
   "metadata": {},
   "outputs": [],
   "source": [
    "import cv2\n",
    "import numpy as np \n",
    "import HandTrackingModule as htm\n",
    "import time\n",
    "import math\n",
    "from ctypes import cast, POINTER\n",
    "from comtypes import CLSCTX_ALL\n",
    "from pycaw.pycaw import AudioUtilities, IAudioEndpointVolume"
   ]
  },
  {
   "cell_type": "code",
   "execution_count": 13,
   "id": "6b0b61cf",
   "metadata": {},
   "outputs": [
    {
     "data": {
      "text/plain": [
       "True"
      ]
     },
     "execution_count": 13,
     "metadata": {},
     "output_type": "execute_result"
    }
   ],
   "source": [
    "wCam,hCam=640,480\n",
    "cap=cv2.VideoCapture(0)\n",
    "cap.set(3,wCam)\n",
    "cap.set(4,hCam)\n",
    "\n",
    "\n"
   ]
  },
  {
   "cell_type": "code",
   "execution_count": null,
   "id": "9cd53a24",
   "metadata": {},
   "outputs": [],
   "source": [
    "pTime=0\n",
    "cTime=0\n",
    "detector=htm.handDetector(detectionCon=0.7)\n",
    "#connect to the device system!\n",
    "devices = AudioUtilities.GetSpeakers()\n",
    "interface = devices.Activate(\n",
    "    IAudioEndpointVolume._iid_, CLSCTX_ALL, None)\n",
    "volume = cast(interface, POINTER(IAudioEndpointVolume))\n",
    "# volume.GetMute()\n",
    "# volume.GetMasterVolumeLevel()\n",
    "volRange = volume.GetVolumeRange()\n",
    "minVol = volRange[0]\n",
    "maxVol = volRange[1]\n",
    "vol = 0\n",
    "volBar = 400\n",
    "volPer = 0\n",
    "while True:\n",
    "    succes,img=cap.read()\n",
    "    img=detector.findHands(img)\n",
    "    lmList,boxx=detector.findPosition(img)\n",
    "    if len(lmList)!=0:\n",
    "        # we will work in finger point  4 and point 8 \n",
    "        x1,y1=lmList[4][1],lmList[4][2]\n",
    "        x2,y2=lmList[8][1],lmList[8][2]\n",
    "        #make circle in point 4 and point 8 \n",
    "        cv2.circle(img,(x1,y1),15,(255,0,255),cv2.FILLED)\n",
    "        cv2.circle(img,(x2,y2),15,(255,0,255),cv2.FILLED)\n",
    "        #make a ligne between 4 and 8 \n",
    "        cv2.line(img,(x1,y1),(x2,y2),(255,0,255),3)\n",
    "        #getting the center of this line ! and make a circle \n",
    "        cx,cy=(x1+x2)//2,(y1+y2)//2\n",
    "        cv2.circle(img,(cx,cy),15,(255,0,255),cv2.FILLED)\n",
    "        #length of this line betwen 4 and 8 \n",
    "        length=math.hypot(x2-x1,y2-y1)\n",
    "        #print(int(length))\n",
    "        #our hand range 50-300\n",
    "        #Volume range is from -65 to 0 \n",
    "        vol=np.interp(length,[50,230],[minVol,maxVol])\n",
    "        volBar=np.interp(length,[50,230],[400,150])\n",
    "        volPer=np.interp(length,[50,230],[0,100])\n",
    "        volume.SetMasterVolumeLevel(vol,None)\n",
    "        #change color if length is small !\n",
    "        if length<50:\n",
    "                cv2.circle(img,(cx,cy),15,(0,255,0),cv2.FILLED)\n",
    "        cv2.rectangle(img,(50,150),(85,400),(255,0,0),3)\n",
    "        cv2.rectangle(img,(50,int(volBar)),(85,400),(255,0,0),cv2.FILLED)\n",
    "        cv2.putText(img,str(int(volPer)),(40,450),cv2.FONT_HERSHEY_PLAIN,3,(255,0,0),5)\n",
    "\n",
    "\n",
    "\n",
    "    cTime=time.time()\n",
    "    fps=1/(cTime-pTime) \n",
    "    pTime=cTime\n",
    "    #show  fps (10,70) for the position , 3 mean the skale , the 1 for letter ( big , small )\n",
    "    cv2.putText(img,str(int(fps)),(10,70),cv2.FONT_HERSHEY_PLAIN,3,(255,0,255),1)\n",
    "    cv2.imshow(\"Image\",img) \n",
    "\n",
    "    cv2.waitKey(1)"
   ]
  }
 ],
 "metadata": {
  "kernelspec": {
   "display_name": "Python 3.9.12 ('base')",
   "language": "python",
   "name": "python3"
  },
  "language_info": {
   "codemirror_mode": {
    "name": "ipython",
    "version": 3
   },
   "file_extension": ".py",
   "mimetype": "text/x-python",
   "name": "python",
   "nbconvert_exporter": "python",
   "pygments_lexer": "ipython3",
   "version": "3.8.12"
  },
  "vscode": {
   "interpreter": {
    "hash": "d99f35fa09d189e272de13bdc6edf290e6b83c25851925daddfd955383877b2c"
   }
  }
 },
 "nbformat": 4,
 "nbformat_minor": 5
}
