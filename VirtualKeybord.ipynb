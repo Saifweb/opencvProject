{
 "cells": [
  {
   "cell_type": "code",
   "execution_count": 54,
   "id": "3b8b0f79",
   "metadata": {},
   "outputs": [],
   "source": [
    "import cv2\n",
    "import HandTrackingModule as htm\n",
    "from time import sleep\n",
    "from pynput.keyboard import Controller"
   ]
  },
  {
   "cell_type": "code",
   "execution_count": 13,
   "id": "f5ba47ae",
   "metadata": {},
   "outputs": [],
   "source": [
    "cap=cv2.VideoCapture(0) \n",
    "cap.set(3,1280)\n",
    "cap.set(4,720)\n",
    "detector=htm.handDetector(detectionCon=0.8)\n",
    "keys = [[\"Q\", \"W\", \"E\", \"R\", \"T\", \"Y\", \"U\", \"I\", \"O\", \"P\"],\n",
    "        [\"A\", \"S\", \"D\", \"F\", \"G\", \"H\", \"J\", \"K\", \"L\", \";\"],\n",
    "        [\"Z\", \"X\", \"C\", \"V\", \"B\", \"N\", \"M\", \",\", \".\", \"/\"]]"
   ]
  },
  {
   "cell_type": "code",
   "execution_count": 19,
   "id": "ba47d1d6",
   "metadata": {},
   "outputs": [],
   "source": [
    "def drawAll(img,buttonList):\n",
    "    for button in buttonList:\n",
    "        x,y=button.pos\n",
    "        w,h=button.size\n",
    "        cv2.rectangle(img,button.pos,(x+w,y+h),(255,0,255),cv2.FILLED)\n",
    "        cv2.putText(img,button.text,(x+20,y+65),cv2.FONT_HERSHEY_PLAIN,4,(175,0,175),4)\n",
    "    return img\n",
    "    \n"
   ]
  },
  {
   "cell_type": "code",
   "execution_count": 20,
   "id": "ebcebc1f",
   "metadata": {},
   "outputs": [],
   "source": [
    "class Button():\n",
    "    def __init__(self,pos,text,size=[85, 85]):\n",
    "        self.pos=pos\n",
    "        self.text=text\n",
    "        self.size=size\n",
    "        "
   ]
  },
  {
   "cell_type": "code",
   "execution_count": null,
   "id": "40c0c5ef",
   "metadata": {},
   "outputs": [],
   "source": [
    "buttonList=[]\n",
    "finaltext=''\n",
    "keyborad= Controller()  \n",
    "for i in range(len(keys)):\n",
    "    for x,key in enumerate(keys[i]):\n",
    "        buttonList.append(Button([100*x+50,100*i+50],key))\n",
    "while True:\n",
    "    # 1.read image \n",
    "    succes,img=cap.read()\n",
    "    #flip the image  1=horzintely and 0 vertical \n",
    "    img=cv2.flip(img,1)\n",
    "    img=detector.findHands(img)\n",
    "    lmList,bbox=detector.findPosition(img)\n",
    "    img=drawAll(img,buttonList)\n",
    "    if lmList:\n",
    "        for button in buttonList:\n",
    "            x, y = button.pos\n",
    "            w, h = button.size\n",
    "            if x < lmList[8][1] < x + w and y < lmList[8][2] < y + h:\n",
    "                cv2.rectangle(img, (x - 5, y - 5), (x + w + 5, y + h + 5), (175, 0, 175), cv2.FILLED)\n",
    "                cv2.putText(img, button.text, (x + 20, y + 65),\n",
    "                            cv2.FONT_HERSHEY_PLAIN, 4, (255, 255, 255), 4)\n",
    "                l,_,_=detector.findDistance(8,12,img)\n",
    "                print(l)\n",
    "                if l<50:\n",
    "                    keyborad.press(button.text)\n",
    "                    cv2.rectangle(img, button.pos, (x + w, y + h), (0, 255, 0), cv2.FILLED)\n",
    "                    cv2.putText(img, button.text, (x + 20, y + 65),\n",
    "                                cv2.FONT_HERSHEY_PLAIN, 4, (255, 255, 255), 4)\n",
    "                    finaltext+=button.text\n",
    "                    sleep(0.15)\n",
    "        fingers=detector.fingersUp()\n",
    "        print(fingers)\n",
    "        if all (x <= 0 for x in fingers):\n",
    "            finaltext=''       \n",
    "    cv2.rectangle(img, (50, 350), (700, 450), (175, 0, 175), cv2.FILLED)\n",
    "    cv2.putText(img,finaltext, (60, 430),\n",
    "                cv2.FONT_HERSHEY_PLAIN, 5, (255, 255, 255), 5)\n",
    "    #showing image\n",
    "    cv2.imshow(\"image\",img)\n",
    "    cv2.waitKey(1)"
   ]
  }
 ],
 "metadata": {
  "kernelspec": {
   "display_name": "Python 3.9.12 ('base')",
   "language": "python",
   "name": "python3"
  },
  "language_info": {
   "codemirror_mode": {
    "name": "ipython",
    "version": 3
   },
   "file_extension": ".py",
   "mimetype": "text/x-python",
   "name": "python",
   "nbconvert_exporter": "python",
   "pygments_lexer": "ipython3",
   "version": "3.8.12"
  },
  "vscode": {
   "interpreter": {
    "hash": "d99f35fa09d189e272de13bdc6edf290e6b83c25851925daddfd955383877b2c"
   }
  }
 },
 "nbformat": 4,
 "nbformat_minor": 5
}
