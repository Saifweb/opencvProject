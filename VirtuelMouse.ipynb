{
 "cells": [
  {
   "cell_type": "code",
   "execution_count": null,
   "metadata": {},
   "outputs": [],
   "source": [
    "import cv2\n",
    "import HandTrackingModule as htm\n",
    "import time\n",
    "import autopy\n",
    "import numpy as np\n"
   ]
  },
  {
   "cell_type": "code",
   "execution_count": null,
   "metadata": {},
   "outputs": [],
   "source": [
    "cap=cv2.VideoCapture(0)\n",
    "wCam, hCam = 640, 480\n",
    "cap.set(3,wCam)\n",
    "cap.set(4,hCam)\n",
    "wScr,hScr=autopy.screen.size()\n",
    "#print(wScr,hScr)"
   ]
  },
  {
   "cell_type": "code",
   "execution_count": null,
   "metadata": {},
   "outputs": [],
   "source": [
    "detector=htm.handDetector(detectionCon=0.8)\n",
    "pTime=0\n",
    "cTime=0\n",
    "frameR=100 #frame Reduction! \n",
    "smoothening=7\n",
    "# we will use to smooth value !\n",
    "#previous location :\n",
    "Px,Py=0,0\n",
    "#current location:\n",
    "Cx,Cy=0,0\n",
    "while True:\n",
    "    #1 find landmarks:\n",
    "    succes,img=cap.read()\n",
    "    img=cv2.flip(img,1)\n",
    "    img=detector.findHands(img)\n",
    "    #2 take hand pixel position:\n",
    "    LmList,bbox=detector.findPosition(img)\n",
    "    if LmList:\n",
    "        x1,y1=LmList[8][1],LmList[8][2]\n",
    "        x2,y2=LmList[12][1],LmList[12][2]\n",
    "        #3 take fingers!\n",
    "        fingers=detector.fingersUp()\n",
    "        #4 moving mode!   \n",
    "        if (fingers[1]==1 and fingers[2]==0) :\n",
    "            #5 convert our condinate:\n",
    "            #6 cerate a range to move the mouse !\n",
    "            cv2.rectangle(img,(frameR,frameR),(wCam-frameR,hCam-frameR),(255,0,255),2)\n",
    "            x3=np.interp(x1,(frameR,wCam-frameR),(0,wScr))\n",
    "            y3=np.interp(y1,(frameR,hCam-frameR),(0,hScr))\n",
    "            # 6+ --smooth the value :\n",
    "            Cx=Px+(x3-Px) / smoothening\n",
    "            Cy=Py+(y3-Py) / smoothening\n",
    "            #7 Move the mouse :\n",
    "            autopy.mouse.move(Cx,Cy)\n",
    "            Px,Py=Cx,Cy\n",
    "            cv2.circle(img,(x1,y1),15,(255,0,255),cv2.FILLED)\n",
    "            #8 the click mouse: \n",
    "            print(fingers[1],fingers[2])\n",
    "        if (fingers[1]==1 and fingers[2]==1) :\n",
    "                l,img,lineInfo=detector.findDistance(8,12,img)\n",
    "                print(l)\n",
    "                if l<42:\n",
    "                    cv2.circle(img,(lineInfo[4],lineInfo[5]),15,(0,255,0),cv2.FILLED)\n",
    "                    autopy.mouse.click()\n",
    "\n",
    "       \n",
    "    #frame rate :\n",
    "    cTime=time.time()\n",
    "    fps=1/(cTime-pTime) \n",
    "    pTime=cTime\n",
    "    #show  fps (10,70) for the position , 3 mean the skale , the 1 for letter ( big , small )\n",
    "    cv2.putText(img,str(int(fps)),(10,70),cv2.FONT_HERSHEY_PLAIN,3,(255,0,255),1)\n",
    "    cv2.imshow(\"Image\",img)\n",
    "    cv2.waitKey(1)"
   ]
  }
 ],
 "metadata": {
  "kernelspec": {
   "display_name": "Python 3.9.12 ('base')",
   "language": "python",
   "name": "python3"
  },
  "language_info": {
   "codemirror_mode": {
    "name": "ipython",
    "version": 3
   },
   "file_extension": ".py",
   "mimetype": "text/x-python",
   "name": "python",
   "nbconvert_exporter": "python",
   "pygments_lexer": "ipython3",
   "version": "3.9.12"
  },
  "orig_nbformat": 4,
  "vscode": {
   "interpreter": {
    "hash": "d99f35fa09d189e272de13bdc6edf290e6b83c25851925daddfd955383877b2c"
   }
  }
 },
 "nbformat": 4,
 "nbformat_minor": 2
}
