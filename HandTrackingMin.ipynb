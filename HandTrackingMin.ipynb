{
 "cells": [
  {
   "cell_type": "code",
   "execution_count": 1,
   "id": "91b6389f",
   "metadata": {
    "scrolled": false
   },
   "outputs": [],
   "source": [
    "import cv2\n",
    "import time\n",
    "import  mediapipe as mp \n"
   ]
  },
  {
   "cell_type": "code",
   "execution_count": 2,
   "id": "3fffc413",
   "metadata": {},
   "outputs": [],
   "source": [
    "#creating our video object and  1 it mean our first cam ! \n",
    "cap=cv2.VideoCapture(0)\n"
   ]
  },
  {
   "cell_type": "code",
   "execution_count": 3,
   "id": "82852e97",
   "metadata": {},
   "outputs": [],
   "source": [
    "#creating hand object!\n",
    "mpHands = mp.solutions.hands\n",
    "hands = mpHands.Hands()\n",
    "mpDraw=mp.solutions.drawing_utils\n",
    "\n"
   ]
  },
  {
   "cell_type": "code",
   "execution_count": null,
   "id": "ef7134bc",
   "metadata": {},
   "outputs": [],
   "source": [
    "pTime=0\n",
    "cTime=0\n",
    "#show camera ! \n",
    "while True:\n",
    "    success, img=cap.read()\n",
    "    #change image to a RGB image before we send it to the hand obejct !\n",
    "    imgRGB=cv2.cvtColor(img,cv2.COLOR_BGR2RGB)\n",
    "    #send our image to the hands module !\n",
    "    results=hands.process(imgRGB)\n",
    "    #print(results.multi_hand_landmarks)\n",
    "    if results.multi_hand_landmarks:\n",
    "        for handLMS in results.multi_hand_landmarks:\n",
    "            for id,lm in enumerate(handLMS.landmark):\n",
    "                #show id for points!\n",
    "                #print(id,lm)\n",
    "                #check image hight weight chanel\n",
    "                h,w,c=img.shape\n",
    "                #find position of points in hends !\n",
    "                cx,cy=int(lm.x*w), int(lm.y*h)\n",
    "                print(id,cx,cy)\n",
    "                #if id==0:\n",
    "                cv2.circle(img,(cx,cy),15,(255,0,255),cv2.FILLED)\n",
    "\n",
    "            #we use hand_connections to connect the points in the hands ( make lines between them )\n",
    "            mpDraw.draw_landmarks(img,handLMS,mpHands.HAND_CONNECTIONS)\n",
    "\n",
    "    #calcul fps and time !\n",
    "    cTime=time.time()\n",
    "    fps=1/(cTime-pTime) \n",
    "    pTime=cTime\n",
    "    #show  fps (10,70) for the position , 3 mean the skale , the 1 for letter ( big , small )\n",
    "    cv2.putText(img,str(int(fps)),(10,70),cv2.FONT_HERSHEY_PLAIN,3,(255,0,255),1)\n",
    "    #show image\n",
    "    cv2.imshow(\"image\", img)\n",
    "    cv2.waitKey(1)\n",
    "    "
   ]
  }
 ],
 "metadata": {
  "kernelspec": {
   "display_name": "Python 3.9.12 ('base')",
   "language": "python",
   "name": "python3"
  },
  "language_info": {
   "codemirror_mode": {
    "name": "ipython",
    "version": 3
   },
   "file_extension": ".py",
   "mimetype": "text/x-python",
   "name": "python",
   "nbconvert_exporter": "python",
   "pygments_lexer": "ipython3",
   "version": "3.8.12"
  },
  "vscode": {
   "interpreter": {
    "hash": "d99f35fa09d189e272de13bdc6edf290e6b83c25851925daddfd955383877b2c"
   }
  }
 },
 "nbformat": 4,
 "nbformat_minor": 5
}
